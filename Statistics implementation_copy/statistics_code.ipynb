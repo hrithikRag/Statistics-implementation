{
 "cells": [
  {
   "cell_type": "code",
   "execution_count": 1,
   "id": "0b1a5125",
   "metadata": {},
   "outputs": [],
   "source": [
    "import numpy as np\n",
    "import pandas as pd\n",
    "import matplotlib.pyplot as plt\n",
    "import seaborn as sns\n",
    "import scipy.stats as st\n",
    "from statsmodels.stats.weightstats import ztest"
   ]
  },
  {
   "cell_type": "code",
   "execution_count": 2,
   "id": "78c7e695",
   "metadata": {},
   "outputs": [
    {
     "data": {
      "text/plain": [
       "array([11.22548128, 11.0020591 , 11.47608597,  9.33957291,  9.18526822,\n",
       "        9.1311037 , 10.39480281, 10.58947076, 10.30443007,  9.99923344,\n",
       "        9.92630698,  9.41439671, 10.40299667, 11.64220584, 10.69152306,\n",
       "       10.7910329 , 10.32812931, 10.55482522,  9.13316241,  9.61004358,\n",
       "        9.34361416, 10.76727288,  8.72688194, 10.34926147,  8.94383702,\n",
       "       10.98017609,  9.11858945, 11.74050412,  9.98059795,  8.28393741,\n",
       "        9.2429915 , 10.49951977,  9.8608497 , 10.48720081, 10.79468645,\n",
       "       10.77710717, 10.19363374, 10.13543873, 10.20438168,  9.56101667,\n",
       "        8.88867583,  9.0854884 ,  9.50763062, 10.59143106, 10.82313391,\n",
       "       10.97428667, 11.1260494 ,  8.33441266, 11.52821514, 10.79938142])"
      ]
     },
     "execution_count": 2,
     "metadata": {},
     "output_type": "execute_result"
    }
   ],
   "source": [
    "r1= np.random.normal(loc = 10.0, scale = 1.0, size = 50) \n",
    "r1"
   ]
  },
  {
   "cell_type": "code",
   "execution_count": 3,
   "id": "e9d73777",
   "metadata": {},
   "outputs": [
    {
     "data": {
      "text/plain": [
       "array([21.13535453, 18.88425114, 19.62396017, 19.20640548, 19.84617894,\n",
       "       22.25274337, 21.3110122 , 21.24257881, 20.61605761, 19.90775897,\n",
       "       21.07006935, 20.61936094, 19.79855914, 20.69394841, 21.4211071 ,\n",
       "       20.8635892 , 19.9158731 , 20.10668669, 18.71829511, 19.87719715,\n",
       "       20.41937681, 17.73389801, 21.21254882, 19.5978366 , 20.89876694,\n",
       "       21.02950813, 19.35778969, 20.53143656, 19.79080807, 20.95893701,\n",
       "       21.53793479, 18.88936744, 19.93535679, 19.68414832, 20.05059354,\n",
       "       18.79523836, 19.95537975, 17.69130617, 19.35972061, 19.96691705,\n",
       "       18.33830145, 20.55561378, 19.86530645, 21.04216124, 20.5165499 ,\n",
       "       18.41717227, 20.23609616, 19.49336323, 18.22754774, 20.91781921])"
      ]
     },
     "execution_count": 3,
     "metadata": {},
     "output_type": "execute_result"
    }
   ],
   "source": [
    "r2= np.random.normal(loc = 20.0, scale = 1.0, size = 50) \n",
    "r2"
   ]
  },
  {
   "cell_type": "code",
   "execution_count": 4,
   "id": "ec58ddf4",
   "metadata": {},
   "outputs": [
    {
     "data": {
      "text/plain": [
       "Ttest_1sampResult(statistic=1.1003027719224783, pvalue=0.27657645736665604)"
      ]
     },
     "execution_count": 4,
     "metadata": {},
     "output_type": "execute_result"
    }
   ],
   "source": [
    "st.ttest_1samp(r1, 10, axis=0, nan_policy='propagate', alternative='two-sided')"
   ]
  },
  {
   "cell_type": "code",
   "execution_count": 5,
   "id": "3d867b97",
   "metadata": {},
   "outputs": [
    {
     "data": {
      "text/plain": [
       "array([ 0.32786215,  0.11019985, -0.67747313,  1.58291573, -1.13919276,\n",
       "       -0.71230762,  0.53641195,  0.54559663, -0.23466214, -0.8242869 ,\n",
       "       -0.66958363, -0.65280105,  0.1251276 , -0.39638767, -0.75425769,\n",
       "        0.10062307,  1.2840215 ,  1.21362967, -1.26021799, -0.25459498,\n",
       "        1.1899654 , -2.35853229, -1.13256117,  0.8906176 ,  0.11458611,\n",
       "       -1.59649463, -1.08661086, -1.33664291,  1.94492487, -0.41557239,\n",
       "        1.76487301,  0.86351592,  0.18621077,  0.58579302,  0.95855113,\n",
       "       -1.19754768, -0.95055087,  2.08150183,  0.23418034,  0.33374977,\n",
       "       -0.08692635,  0.20837367,  1.11582876, -1.00213072,  0.13496524,\n",
       "        0.57040957, -0.22295096, -0.66706307,  0.77534037,  0.97839033])"
      ]
     },
     "execution_count": 5,
     "metadata": {},
     "output_type": "execute_result"
    }
   ],
   "source": [
    "r3=np.random.standard_t(49, size=50)\n",
    "r3"
   ]
  },
  {
   "cell_type": "code",
   "execution_count": 6,
   "id": "9bf0cc6d",
   "metadata": {},
   "outputs": [
    {
     "data": {
      "text/plain": [
       "Ttest_1sampResult(statistic=0.16160550904652576, pvalue=0.8722810389994979)"
      ]
     },
     "execution_count": 6,
     "metadata": {},
     "output_type": "execute_result"
    }
   ],
   "source": [
    "st.ttest_1samp(r3, 0, axis=0, nan_policy='propagate', alternative='two-sided')"
   ]
  },
  {
   "cell_type": "code",
   "execution_count": 7,
   "id": "27bac3ef",
   "metadata": {},
   "outputs": [
    {
     "data": {
      "text/plain": [
       "(-0.25816181755071316, 0.3033144749425058)"
      ]
     },
     "execution_count": 7,
     "metadata": {},
     "output_type": "execute_result"
    }
   ],
   "source": [
    "st.t.interval(alpha=0.95, df=len(r3)-1, loc=np.mean(r3), scale=st.sem(r3))"
   ]
  },
  {
   "cell_type": "code",
   "execution_count": 8,
   "id": "4638a179",
   "metadata": {},
   "outputs": [
    {
     "data": {
      "text/plain": [
       "(Mean(statistic=0.022576328695896333, minmax=(-0.25816181755071316, 0.3033144749425058)),\n",
       " Variance(statistic=1.0173316179664533, minmax=(0.6809020598414481, 1.5152816551104837)),\n",
       " Std_dev(statistic=1.0032781830039958, minmax=(0.8251678979707392, 1.2309677717594738)))"
      ]
     },
     "execution_count": 8,
     "metadata": {},
     "output_type": "execute_result"
    }
   ],
   "source": [
    "st.bayes_mvs(r3, 0.95)"
   ]
  },
  {
   "cell_type": "code",
   "execution_count": 9,
   "id": "47b0dbab",
   "metadata": {},
   "outputs": [
    {
     "data": {
      "text/plain": [
       "array([0.65046609, 0.28449905, 0.08543679, 0.76685193, 0.08684197,\n",
       "       2.56442284, 0.33607805, 0.12861322, 1.65773382, 1.05582646,\n",
       "       0.56970662, 0.70980158, 0.68151796, 0.24475339, 0.74165485,\n",
       "       2.2736437 , 1.06454542, 0.22608014, 0.20540713, 0.5352951 ,\n",
       "       1.2029738 , 0.77852818, 1.41452231, 0.05285896, 0.71605372,\n",
       "       0.92247526, 0.82380482, 0.30377194, 0.38441127, 0.83467952,\n",
       "       0.5256857 , 0.21126574, 0.11366773, 2.34702468, 0.43416703,\n",
       "       0.70611387, 0.49848208, 1.7018169 , 0.1006257 , 0.35696203,\n",
       "       0.2670666 , 0.13049969, 1.10339367, 0.04023174, 1.18563338,\n",
       "       1.20938717, 1.17787366, 0.08111199, 1.18001451, 0.64256681])"
      ]
     },
     "execution_count": 9,
     "metadata": {},
     "output_type": "execute_result"
    }
   ],
   "source": [
    "r4=np.random.exponential(scale=1.0, size=50)\n",
    "r4"
   ]
  },
  {
   "cell_type": "code",
   "execution_count": 10,
   "id": "ee28576a",
   "metadata": {},
   "outputs": [
    {
     "data": {
      "text/plain": [
       "(Mean(statistic=0.7263369311147128, minmax=(0.553583675664641, 0.8990901865647846)),\n",
       " Variance(statistic=0.3852229625956499, minmax=(0.25783048919084367, 0.5737768079156945)),\n",
       " Std_dev(statistic=0.6173709364160425, minmax=(0.5077701145113246, 0.7574805660316933)))"
      ]
     },
     "execution_count": 10,
     "metadata": {},
     "output_type": "execute_result"
    }
   ],
   "source": [
    "st.bayes_mvs(r4, 0.95)"
   ]
  },
  {
   "cell_type": "code",
   "execution_count": 11,
   "id": "a928e547",
   "metadata": {},
   "outputs": [
    {
     "data": {
      "text/plain": [
       "(0.553583675664641, 0.8990901865647846)"
      ]
     },
     "execution_count": 11,
     "metadata": {},
     "output_type": "execute_result"
    }
   ],
   "source": [
    "st.t.interval(alpha=0.95, df=len(r4)-1, loc=np.mean(r4), scale=st.sem(r4))"
   ]
  },
  {
   "cell_type": "code",
   "execution_count": 12,
   "id": "28c4d181",
   "metadata": {},
   "outputs": [],
   "source": [
    "ztest_Score,p_value= ztest(r4,value = 1, alternative='two-sided')"
   ]
  },
  {
   "cell_type": "code",
   "execution_count": 13,
   "id": "b340032d",
   "metadata": {},
   "outputs": [
    {
     "name": "stdout",
     "output_type": "stream",
     "text": [
      "-3.1834220686227828 0.0014554528661962205\n"
     ]
    }
   ],
   "source": [
    "print(ztest_Score,p_value)"
   ]
  },
  {
   "cell_type": "code",
   "execution_count": 14,
   "id": "6042719c",
   "metadata": {},
   "outputs": [
    {
     "name": "stdout",
     "output_type": "stream",
     "text": [
      "736\n"
     ]
    }
   ],
   "source": [
    "count=0\n",
    "for i in range(10000):\n",
    "    r4=np.random.exponential(scale=1.0, size=50)\n",
    "    ztest_Score,p_value= ztest(r4,value = 1, alternative='two-sided')\n",
    "    if p_value<0.05:\n",
    "        count+=1\n",
    "print(count)"
   ]
  },
  {
   "cell_type": "code",
   "execution_count": 15,
   "id": "063f9b6a",
   "metadata": {},
   "outputs": [
    {
     "data": {
      "text/plain": [
       "NormaltestResult(statistic=2.540808265882186, pvalue=0.28071815139922196)"
      ]
     },
     "execution_count": 15,
     "metadata": {},
     "output_type": "execute_result"
    }
   ],
   "source": [
    "st.normaltest(r1, axis=0)"
   ]
  },
  {
   "cell_type": "code",
   "execution_count": 16,
   "id": "f0636985",
   "metadata": {},
   "outputs": [
    {
     "data": {
      "text/plain": [
       "NormaltestResult(statistic=29.35070663982497, pvalue=4.2322862473052616e-07)"
      ]
     },
     "execution_count": 16,
     "metadata": {},
     "output_type": "execute_result"
    }
   ],
   "source": [
    "st.normaltest(r4, axis=0)"
   ]
  },
  {
   "cell_type": "code",
   "execution_count": 17,
   "id": "6361872d",
   "metadata": {},
   "outputs": [
    {
     "data": {
      "text/plain": [
       "NormaltestResult(statistic=0.3541558263652027, pvalue=0.8377145129764526)"
      ]
     },
     "execution_count": 17,
     "metadata": {},
     "output_type": "execute_result"
    }
   ],
   "source": [
    "st.normaltest(r3, axis=0)"
   ]
  },
  {
   "cell_type": "code",
   "execution_count": 18,
   "id": "09353024",
   "metadata": {},
   "outputs": [],
   "source": [
    "mean, var, skew, kurt = st.gamma.stats(1, moments='mvsk')"
   ]
  },
  {
   "cell_type": "code",
   "execution_count": 19,
   "id": "acf5a179",
   "metadata": {},
   "outputs": [
    {
     "name": "stdout",
     "output_type": "stream",
     "text": [
      "1.0 1.0 2.0 6.0\n"
     ]
    }
   ],
   "source": [
    "print(mean, var, skew, kurt)"
   ]
  },
  {
   "cell_type": "code",
   "execution_count": 20,
   "id": "20281ddd",
   "metadata": {},
   "outputs": [
    {
     "name": "stdout",
     "output_type": "stream",
     "text": [
      "2.0 4.0 2.0 6.0\n"
     ]
    }
   ],
   "source": [
    "df = 2\n",
    "mean, var, skew, kurt = st.chi2.stats(df, moments='mvsk')\n",
    "print(mean, var, skew, kurt)"
   ]
  },
  {
   "cell_type": "code",
   "execution_count": 21,
   "id": "e572bc88",
   "metadata": {},
   "outputs": [
    {
     "name": "stdout",
     "output_type": "stream",
     "text": [
      "[0.02010067 0.11293138 0.20576208 0.29859278 0.39142349 0.48425419\n",
      " 0.5770849  0.6699156  0.7627463  0.85557701 0.94840771 1.04123842\n",
      " 1.13406912 1.22689982 1.31973053 1.41256123 1.50539194 1.59822264\n",
      " 1.69105334 1.78388405 1.87671475 1.96954546 2.06237616 2.15520686\n",
      " 2.24803757 2.34086827 2.43369898 2.52652968 2.61936038 2.71219109\n",
      " 2.80502179 2.8978525  2.9906832  3.08351391 3.17634461 3.26917531\n",
      " 3.36200602 3.45483672 3.54766743 3.64049813 3.73332883 3.82615954\n",
      " 3.91899024 4.01182095 4.10465165 4.19748235 4.29031306 4.38314376\n",
      " 4.47597447 4.56880517 4.66163587 4.75446658 4.84729728 4.94012799\n",
      " 5.03295869 5.12578939 5.2186201  5.3114508  5.40428151 5.49711221\n",
      " 5.58994291 5.68277362 5.77560432 5.86843503 5.96126573 6.05409643\n",
      " 6.14692714 6.23975784 6.33258855 6.42541925 6.51824995 6.61108066\n",
      " 6.70391136 6.79674207 6.88957277 6.98240347 7.07523418 7.16806488\n",
      " 7.26089559 7.35372629 7.446557   7.5393877  7.6322184  7.72504911\n",
      " 7.81787981 7.91071052 8.00354122 8.09637192 8.18920263 8.28203333\n",
      " 8.37486404 8.46769474 8.56052544 8.65335615 8.74618685 8.83901756\n",
      " 8.93184826 9.02467896 9.11750967 9.21034037]\n"
     ]
    },
    {
     "data": {
      "text/plain": [
       "[<matplotlib.lines.Line2D at 0x1793c765fd0>]"
      ]
     },
     "execution_count": 21,
     "metadata": {},
     "output_type": "execute_result"
    },
    {
     "data": {
      "image/png": "[encoded data removed]",
      "text/plain": [
       "<Figure size 432x288 with 1 Axes>"
      ]
     },
     "metadata": {
      "needs_background": "light"
     },
     "output_type": "display_data"
    }
   ],
   "source": [
    "x = np.linspace(st.chi2.ppf(0.01, df),\n",
    "                st.chi2.ppf(0.99, df), 100)\n",
    "print(x)\n",
    "plt.plot(x, st.chi2.pdf(x, df),\n",
    "       'r-', lw=2, alpha=0.6, label='chi2 pdf')"
   ]
  },
  {
   "cell_type": "code",
   "execution_count": 22,
   "id": "852a0d4f",
   "metadata": {},
   "outputs": [
    {
     "data": {
      "text/plain": [
       "True"
      ]
     },
     "execution_count": 22,
     "metadata": {},
     "output_type": "execute_result"
    }
   ],
   "source": [
    "vals = st.chi2.ppf([0.001, 0.5, 0.999], df)\n",
    "np.allclose([0.001, 0.5, 0.999], st.chi2.cdf(vals, df))"
   ]
  },
  {
   "cell_type": "code",
   "execution_count": 23,
   "id": "f8ca9e2c",
   "metadata": {},
   "outputs": [
    {
     "name": "stdout",
     "output_type": "stream",
     "text": [
      "16.04707169536489 25.337984590882176 45.72228580417452\n"
     ]
    },
    {
     "data": {
      "text/plain": [
       "'H_0 not rejected'"
      ]
     },
     "execution_count": 23,
     "metadata": {},
     "output_type": "execute_result"
    }
   ],
   "source": [
    "def var_test(x, va0, direction = \"two-tailed\", alpha = 0.05):\n",
    "    n = len(x)\n",
    "    Q = (n - 1) * np.var(x) / va0 \n",
    "    if direction == \"lower\":\n",
    "        q = st.chi2.ppf(alpha, n - 1)\n",
    "        if Q <= q:\n",
    "            return \"H_0 rejected\"\n",
    "        else:\n",
    "            return \"H_0 not rejected\"\n",
    "    elif direction == \"upper\":\n",
    "        q = st.chi2.ppf(1 - alpha, n - 1)\n",
    "        if Q >= q:\n",
    "            return \"H_0 rejected\"\n",
    "        else:\n",
    "            return \"H_0 not rejected\"\n",
    "    else:\n",
    "        q1 = st.chi2.ppf(alpha / 2, n - 1)\n",
    "        q2 = st.chi2.ppf(1 - (alpha / 2), n - 1)\n",
    "        print(q1,Q,q2)\n",
    "        if Q <= q1 or Q >= q2:\n",
    "            return \"H_0 rejected\"\n",
    "        else:\n",
    "            return \"H_0 not rejected\"\n",
    "\n",
    "n = 30    \n",
    "\n",
    "x = np.random.normal(0, 1.732, n)\n",
    "\n",
    "var_test(x, va0 = 3)"
   ]
  },
  {
   "cell_type": "code",
   "execution_count": 24,
   "id": "6dd1eb8b",
   "metadata": {},
   "outputs": [
    {
     "name": "stdout",
     "output_type": "stream",
     "text": [
      "PDF value at x=0.5: 0.3989422804014327\n",
      "CDF value at x=0.5: 0.5\n"
     ]
    }
   ],
   "source": [
    "# Create a normal distribution with mean=0 and standard deviation=1\n",
    "normal_dist = st.norm(0, 1)\n",
    "\n",
    "# Calculate the probability density function at x=0.5\n",
    "pdf_value = normal_dist.pdf(0)\n",
    "print(f\"PDF value at x=0.5: {pdf_value}\")\n",
    "\n",
    "# Calculate the cumulative distribution function at x=0.5\n",
    "cdf_value = normal_dist.cdf(0)\n",
    "print(f\"CDF value at x=0.5: {cdf_value}\")"
   ]
  },
  {
   "cell_type": "code",
   "execution_count": 25,
   "id": "d62da0e4",
   "metadata": {},
   "outputs": [
    {
     "data": {
      "text/plain": [
       "Ttest_indResult(statistic=-52.14856613147037, pvalue=2.7523267892474217e-73)"
      ]
     },
     "execution_count": 25,
     "metadata": {},
     "output_type": "execute_result"
    }
   ],
   "source": [
    "st.ttest_ind(r1, r2, axis=0, equal_var=True, nan_policy='propagate', permutations=None, random_state=None, alternative='two-sided', trim=0)"
   ]
  },
  {
   "cell_type": "code",
   "execution_count": 30,
   "id": "a943126e",
   "metadata": {},
   "outputs": [
    {
     "name": "stdout",
     "output_type": "stream",
     "text": [
      "MLE estimate of mu: 999.6464672848083\n",
      "MLE estimate of sigma: 1.9895681880715537\n",
      "999.6464672848083\n"
     ]
    }
   ],
   "source": [
    "data = np.random.normal(loc=1000, scale=2, size=100)\n",
    "\n",
    "# Estimate the mean and standard deviation using MLE\n",
    "mu, sigma = st.norm.fit(data)\n",
    "\n",
    "print(f\"MLE estimate of mu: {mu}\")\n",
    "print(f\"MLE estimate of sigma: {sigma}\")\n",
    "\n",
    "print(np.mean(data))"
   ]
  },
  {
   "cell_type": "code",
   "execution_count": 37,
   "id": "63aae36d",
   "metadata": {},
   "outputs": [
    {
     "name": "stdout",
     "output_type": "stream",
     "text": [
      "MLE estimate of mu: 1.3318313632347293e-05\n",
      "MLE estimate of sigma: 2.067007257096621\n",
      "0.4837881208809565\n"
     ]
    }
   ],
   "source": [
    "data = np.random.exponential(scale=2.0, size=1000)\n",
    "\n",
    "# Estimate the mean and standard deviation using MLE\n",
    "mu, sigma = st.expon.fit(data)\n",
    "\n",
    "print(f\"MLE estimate of mu: {mu}\")\n",
    "print(f\"MLE estimate of sigma: {sigma}\")\n",
    "\n",
    "print(1/np.mean(data))"
   ]
  },
  {
   "cell_type": "code",
   "execution_count": null,
   "id": "78b1ff26",
   "metadata": {},
   "outputs": [],
   "source": []
  }
 ],
 "metadata": {
  "kernelspec": {
   "display_name": "Python 3 (ipykernel)",
   "language": "python",
   "name": "python3"
  },
  "language_info": {
   "codemirror_mode": {
    "name": "ipython",
    "version": 3
   },
   "file_extension": ".py",
   "mimetype": "text/x-python",
   "name": "python",
   "nbconvert_exporter": "python",
   "pygments_lexer": "ipython3",
   "version": "3.9.12"
  }
 },
 "nbformat": 4,
 "nbformat_minor": 5
}
